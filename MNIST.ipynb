{
  "nbformat": 4,
  "nbformat_minor": 0,
  "metadata": {
    "colab": {
      "name": "MNIST.ipynb",
      "provenance": [],
      "authorship_tag": "ABX9TyOUEjbfKYVXAW0Rr3LD1ciR"
    },
    "kernelspec": {
      "name": "python3",
      "display_name": "Python 3"
    }
  },
  "cells": [
    {
      "cell_type": "markdown",
      "metadata": {
        "id": "dVyd_mi3bzV-",
        "colab_type": "text"
      },
      "source": [
        "#MNIST Dataset Modelling \n",
        "- MNIST is modified national institude of standards and technologies. \n",
        "- This dataset contains images of handwritten digits with their lanbels associated\n",
        "- Current dataset has 60,000 train Vs 10,000 test samples\n",
        "- we are using Dense - fully connected network with 2 hidden layers (sequential)\n",
        "- total loss after 15 iteration for this model is 0.08588431775569916 with accuracy of 0.9751999974250793"
      ]
    },
    {
      "cell_type": "code",
      "metadata": {
        "id": "3rPNzYoyM_fK",
        "colab_type": "code",
        "colab": {}
      },
      "source": [
        "import numpy as np\n",
        "from tensorflow import keras\n",
        "from tensorflow.keras import layers"
      ],
      "execution_count": 3,
      "outputs": []
    },
    {
      "cell_type": "code",
      "metadata": {
        "id": "cTnnAFq9Nr0k",
        "colab_type": "code",
        "colab": {}
      },
      "source": [
        "#data _prepareation\n",
        "no_classes = 10\n",
        "input_shape = (28,28,1)\n",
        "(x_train, y_train), (x_test, y_test) = keras.datasets.mnist.load_data()"
      ],
      "execution_count": 6,
      "outputs": []
    },
    {
      "cell_type": "code",
      "metadata": {
        "id": "L5sk9V8CO-k0",
        "colab_type": "code",
        "colab": {
          "base_uri": "https://localhost:8080/",
          "height": 68
        },
        "outputId": "5ff03412-1604-4490-c001-387779c674b0"
      },
      "source": [
        "x_train = x_train.astype(\"float32\") / 255\n",
        "x_test = x_test.astype(\"float32\") / 255\n",
        "# Make sure images have shape (28, 28, 1)\n",
        "x_train = np.expand_dims(x_train, -1)\n",
        "x_test = np.expand_dims(x_test, -1)\n",
        "print(\"x_train shape:\", x_train.shape)\n",
        "print(x_train.shape[0], \"train samples\")\n",
        "print(x_test.shape[0], \"test samples\")"
      ],
      "execution_count": 8,
      "outputs": [
        {
          "output_type": "stream",
          "text": [
            "x_train shape: (60000, 28, 28, 1, 1)\n",
            "60000 train samples\n",
            "10000 test samples\n"
          ],
          "name": "stdout"
        }
      ]
    },
    {
      "cell_type": "code",
      "metadata": {
        "id": "222JX9VJPnGd",
        "colab_type": "code",
        "colab": {}
      },
      "source": [
        "#convert y_train and y_test to categorical variable , vectors of binary classes\n",
        "y_train = keras.utils.to_categorical(y_train, no_classes)\n",
        "y_test = keras.utils.to_categorical(y_test, no_classes)"
      ],
      "execution_count": 9,
      "outputs": []
    },
    {
      "cell_type": "code",
      "metadata": {
        "id": "nLM_C6H6P8bi",
        "colab_type": "code",
        "colab": {}
      },
      "source": [
        "#model\n",
        "model = keras.Sequential(\n",
        "    [\n",
        "        keras.Input(shape=input_shape),\n",
        "        layers.Conv2D(32, kernel_size=(3, 3), activation=\"relu\"),\n",
        "        layers.MaxPooling2D(pool_size=(2, 2)),\n",
        "        layers.Conv2D(64, kernel_size=(3, 3), activation=\"relu\"),\n",
        "        layers.MaxPooling2D(pool_size=(2, 2)),\n",
        "        layers.Flatten(),\n",
        "        layers.Dropout(0.5),\n",
        "        layers.Dense(no_classes, activation=\"softmax\"),\n",
        "    ]\n",
        ")"
      ],
      "execution_count": 11,
      "outputs": []
    },
    {
      "cell_type": "code",
      "metadata": {
        "id": "ZmI3HzC5SamK",
        "colab_type": "code",
        "colab": {
          "base_uri": "https://localhost:8080/",
          "height": 391
        },
        "outputId": "2c6d5988-3e9e-407d-bf73-0cab25f203c7"
      },
      "source": [
        "model.summary()"
      ],
      "execution_count": 12,
      "outputs": [
        {
          "output_type": "stream",
          "text": [
            "Model: \"sequential\"\n",
            "_________________________________________________________________\n",
            "Layer (type)                 Output Shape              Param #   \n",
            "=================================================================\n",
            "conv2d_2 (Conv2D)            (None, 26, 26, 32)        320       \n",
            "_________________________________________________________________\n",
            "max_pooling2d_2 (MaxPooling2 (None, 13, 13, 32)        0         \n",
            "_________________________________________________________________\n",
            "conv2d_3 (Conv2D)            (None, 11, 11, 64)        18496     \n",
            "_________________________________________________________________\n",
            "max_pooling2d_3 (MaxPooling2 (None, 5, 5, 64)          0         \n",
            "_________________________________________________________________\n",
            "flatten_1 (Flatten)          (None, 1600)              0         \n",
            "_________________________________________________________________\n",
            "dropout_1 (Dropout)          (None, 1600)              0         \n",
            "_________________________________________________________________\n",
            "dense (Dense)                (None, 10)                16010     \n",
            "=================================================================\n",
            "Total params: 34,826\n",
            "Trainable params: 34,826\n",
            "Non-trainable params: 0\n",
            "_________________________________________________________________\n"
          ],
          "name": "stdout"
        }
      ]
    },
    {
      "cell_type": "code",
      "metadata": {
        "id": "lo2vmJi9Xsrx",
        "colab_type": "code",
        "colab": {
          "base_uri": "https://localhost:8080/",
          "height": 544
        },
        "outputId": "6b0f562e-91e0-4612-8658-e177a3c5f758"
      },
      "source": [
        "#Training the model\n",
        "batch_size = 128\n",
        "epochs = 15\n",
        "model.compile(loss=\"categorical_crossentropy\", optimizer=\"adam\", metrics=[\"accuracy\"])\n",
        "model.fit(x_train,y_train,batch_size= batch_size, epochs= epochs, validation_split=0.1)\n"
      ],
      "execution_count": 13,
      "outputs": [
        {
          "output_type": "stream",
          "text": [
            "Epoch 1/15\n",
            "422/422 [==============================] - 38s 89ms/step - loss: 1.4004 - accuracy: 0.5529 - val_loss: 0.4490 - val_accuracy: 0.8790\n",
            "Epoch 2/15\n",
            "422/422 [==============================] - 37s 88ms/step - loss: 0.5202 - accuracy: 0.8390 - val_loss: 0.2986 - val_accuracy: 0.9187\n",
            "Epoch 3/15\n",
            "422/422 [==============================] - 37s 89ms/step - loss: 0.3956 - accuracy: 0.8818 - val_loss: 0.2193 - val_accuracy: 0.9437\n",
            "Epoch 4/15\n",
            "422/422 [==============================] - 37s 88ms/step - loss: 0.3227 - accuracy: 0.9036 - val_loss: 0.1748 - val_accuracy: 0.9553\n",
            "Epoch 5/15\n",
            "422/422 [==============================] - 38s 89ms/step - loss: 0.2772 - accuracy: 0.9171 - val_loss: 0.1478 - val_accuracy: 0.9628\n",
            "Epoch 6/15\n",
            "422/422 [==============================] - 37s 89ms/step - loss: 0.2485 - accuracy: 0.9265 - val_loss: 0.1327 - val_accuracy: 0.9665\n",
            "Epoch 7/15\n",
            "422/422 [==============================] - 37s 89ms/step - loss: 0.2267 - accuracy: 0.9319 - val_loss: 0.1212 - val_accuracy: 0.9700\n",
            "Epoch 8/15\n",
            "422/422 [==============================] - 37s 88ms/step - loss: 0.2097 - accuracy: 0.9370 - val_loss: 0.1142 - val_accuracy: 0.9713\n",
            "Epoch 9/15\n",
            "422/422 [==============================] - 37s 88ms/step - loss: 0.1966 - accuracy: 0.9408 - val_loss: 0.1064 - val_accuracy: 0.9745\n",
            "Epoch 10/15\n",
            "422/422 [==============================] - 37s 88ms/step - loss: 0.1882 - accuracy: 0.9438 - val_loss: 0.0967 - val_accuracy: 0.9753\n",
            "Epoch 11/15\n",
            "422/422 [==============================] - 37s 87ms/step - loss: 0.1799 - accuracy: 0.9453 - val_loss: 0.0933 - val_accuracy: 0.9762\n",
            "Epoch 12/15\n",
            "422/422 [==============================] - 37s 88ms/step - loss: 0.1683 - accuracy: 0.9496 - val_loss: 0.0880 - val_accuracy: 0.9768\n",
            "Epoch 13/15\n",
            "422/422 [==============================] - 43s 101ms/step - loss: 0.1632 - accuracy: 0.9501 - val_loss: 0.0867 - val_accuracy: 0.9777\n",
            "Epoch 14/15\n",
            "422/422 [==============================] - 37s 88ms/step - loss: 0.1574 - accuracy: 0.9521 - val_loss: 0.0828 - val_accuracy: 0.9792\n",
            "Epoch 15/15\n",
            "422/422 [==============================] - 37s 88ms/step - loss: 0.1514 - accuracy: 0.9550 - val_loss: 0.0809 - val_accuracy: 0.9803\n"
          ],
          "name": "stdout"
        },
        {
          "output_type": "execute_result",
          "data": {
            "text/plain": [
              "<tensorflow.python.keras.callbacks.History at 0x7f905c7e6b70>"
            ]
          },
          "metadata": {
            "tags": []
          },
          "execution_count": 13
        }
      ]
    },
    {
      "cell_type": "code",
      "metadata": {
        "id": "kJEr-7GLbjyI",
        "colab_type": "code",
        "colab": {
          "base_uri": "https://localhost:8080/",
          "height": 51
        },
        "outputId": "857c577f-c5c2-409c-9049-c756124c9e9c"
      },
      "source": [
        "score = model.evaluate(x_test, y_test, verbose=0)\n",
        "print(score[0] , 'test Loss')\n",
        "print(score[1] , 'test accuracy')\n"
      ],
      "execution_count": 16,
      "outputs": [
        {
          "output_type": "stream",
          "text": [
            "0.08588431775569916 test Loss\n",
            "0.9751999974250793 test accuracy\n"
          ],
          "name": "stdout"
        }
      ]
    }
  ]
}